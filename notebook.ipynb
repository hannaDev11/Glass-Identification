#Import the library
import pandas as pd
import numpy as np
import sklearn
import tensorflow 
import tensorflow.keras 
import matplotlib.pyplot as plt
from sklearn.model_selection import train_test_split
from tensorflow.keras.models import Sequential
from tensorflow.keras.layers import Dense
from tensorflow.keras.layers import Dropout
from tensorflow.keras.utils import to_categorical
from tensorflow.keras.optimizers import Adam
from sklearn.tree import DecisionTreeClassifier
from sklearn.tree import export_text
from sklearn.preprocessing import StandardScaler
from sklearn.metrics import confusion_matrix, ConfusionMatrixDisplay, accuracy_score
# Creating the dataframe
df = pd.read_csv('https://archive.ics.uci.edu/ml/machine-learning-databases/glass/glass.data', names = ['Id number', 'refractive index',
                                                                                                       'Sodium', 'Magnesium', 
                                                                                                       'Aluminum', 'Silicon',
                                                                                                       'Potassium', 'Calcium', 
                                                                                                       'Barium', 'Iron', 
                                                                                                       'Type of glass'], index_col = 'Id number')

# Checking first 5 rows
df.head()
# Checking statistic
df.describe()
# Checking data types
df.dtypes

glass = pd.read_csv('glass.csv')
features = glass.iloc[:, :-1]
label = glass.iloc[:, -1]
train_features, test_features, train_label, test_label = train_test_split(features, label, test_size=0.2)
pd.plotting.scatter_matrix(train_features, alpha=0.2, figsize=(10, 10), diagonal='hist')

# Visualise the scatterplot matrix: testing data
pd.plotting.scatter_matrix(test_features, alpha=0.2, figsize=(10, 10), diagonal='hist')

# prediction for the first test input array
sample = test_features_scaled[0, :]
prediction = classifier.predict([sample])[0]
print(f"Prediction: {prediction}")
display(ConfusionMatrixDisplay(confusion_matrix(test_label, classifier.predict(test_features_scaled))).plot())
print(f"Accuracy: {accuracy_score(test_label, classifier.predict(test_features_scaled))}")

df.shape

# Checking if we have any missing data
missing_data = df.isnull()
missing_data.head()

missing_data.nunique()

target_column = 'Type of glass'
predictors = list(set(list(df.columns))-set([target_column]))
x = df[predictors].values
y = df[target_column].values

predictors

[(x.shape, y.shape)]
x[0:5,:]
y[0:5]

# Setting target column to start with zero
df[target_column].value_counts()

objects_to_integers = {1: 0, 2: 1, 3: 2, 4: 3, 5: 4, 6: 5, 7: 6}
df[target_column].replace(objects_to_integers, inplace = True)
df[target_column].value_counts()

# Normalizing the predictors 
df[predictors]=df[predictors]/df[predictors].max()
df.describe()

# Sampling training and test sets from the dataframe
x_train, x_test, y_train, y_test = train_test_split(x, y, test_size = 0.4)
[x_train.shape , x_test.shape , y_train.shape , y_test.shape]

# Transforming target column to binary values
y_train = to_categorical(y_train)
y_test = to_categorical(y_test)
(y_train.shape, y_test.shape) 

# Compiling the model
model.compile(optimizer = Adam(lr=0.01), loss = 'categorical_crossentropy', metrics=['accuracy'])
model.metrics_names

# Train the model
history = model.fit(x_train, y_train, epochs=15)
# Checking training data in the plot
plt.plot(history.history['accuracy'])
plt.title('Accuracy change with higher number of epochs')
plt.ylabel('Accuracy')
plt.xlabel('Apoch')
plt.legend(['training set'], loc='upper left')
plt.show()

# Accuracy of the model on test set
scores = model.evaluate(x_test, y_test, verbose=0)
print('Accuracy on the test set is: ', scores[1])
